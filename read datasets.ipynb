{
 "cells": [
  {
   "cell_type": "code",
   "execution_count": 128,
   "metadata": {},
   "outputs": [],
   "source": [
    "from pathlib import Path\n",
    "\n",
    "import skimage\n",
    "\n",
    "import numpy as np\n",
    "import pandas as pd\n",
    "pd.set_option('display.max_columns', 50)"
   ]
  },
  {
   "cell_type": "code",
   "execution_count": 129,
   "metadata": {},
   "outputs": [],
   "source": [
    "DATA_PATH = \"datasets/\"\n",
    "ICMC_PATH = \"PessoasICMC/\"\n",
    "ORIGNAL_PATH = \"OrlFaces20/\""
   ]
  },
  {
   "cell_type": "code",
   "execution_count": 133,
   "metadata": {},
   "outputs": [],
   "source": [
    "def read_data(name, size=None):\n",
    "    if size is None:\n",
    "        print(\"The amount of images and their sizes must be specified\")\n",
    "        raise ValueError(\"size can not be None\")\n",
    "    \n",
    "    data = np.ndarray(size)\n",
    "    path = Path(name)\n",
    "    \n",
    "    for subdir in path.iterdir():\n",
    "        class_num = int(subdir.name[1:]) - 1 # skip the \"p/s\" at the beggining\n",
    "        for idx, img_file in enumerate(subdir.iterdir()):\n",
    "            data[class_num, idx] = skimage.io.imread(img_file)\n",
    "    \n",
    "    # Convert to numpy array\n",
    "    data = np.array(data)\n",
    "    amount_data = size[0]*size[1]\n",
    "    data = data.reshape(amount_data, size[-2], size[-1])\n",
    "    \n",
    "    # Create the target vector\n",
    "    targets = np.array([[x]*size[1] for x in range(1, 21)])\n",
    "    targets = targets.reshape(-1)\n",
    "    \n",
    "    return data, targets"
   ]
  },
  {
   "cell_type": "code",
   "execution_count": 134,
   "metadata": {},
   "outputs": [],
   "source": [
    "icmc_x, icmc_y = read_data(DATA_PATH + ICMC_PATH, size=(20, 1, 300, 200))\n",
    "original_x, original_y = read_data(DATA_PATH + ORIGNAL_PATH, size=(20, 10, 112,  92))"
   ]
  },
  {
   "cell_type": "code",
   "execution_count": 135,
   "metadata": {},
   "outputs": [
    {
     "data": {
      "text/plain": [
       "(200, 112, 92)"
      ]
     },
     "execution_count": 135,
     "metadata": {},
     "output_type": "execute_result"
    }
   ],
   "source": [
    "original_x.shape"
   ]
  },
  {
   "cell_type": "code",
   "execution_count": 127,
   "metadata": {},
   "outputs": [
    {
     "data": {
      "text/plain": [
       "(200,)"
      ]
     },
     "execution_count": 127,
     "metadata": {},
     "output_type": "execute_result"
    }
   ],
   "source": [
    "original_y.shape"
   ]
  }
 ],
 "metadata": {
  "kernelspec": {
   "display_name": "Python 3",
   "language": "python",
   "name": "python3"
  },
  "language_info": {
   "codemirror_mode": {
    "name": "ipython",
    "version": 3
   },
   "file_extension": ".py",
   "mimetype": "text/x-python",
   "name": "python",
   "nbconvert_exporter": "python",
   "pygments_lexer": "ipython3",
   "version": "3.6.5rc1"
  },
  "toc": {
   "base_numbering": 1,
   "nav_menu": {},
   "number_sections": true,
   "sideBar": true,
   "skip_h1_title": false,
   "title_cell": "Table of Contents",
   "title_sidebar": "Contents",
   "toc_cell": false,
   "toc_position": {},
   "toc_section_display": true,
   "toc_window_display": false
  }
 },
 "nbformat": 4,
 "nbformat_minor": 2
}
