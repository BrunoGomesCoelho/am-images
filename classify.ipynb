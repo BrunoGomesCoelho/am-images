{
 "cells": [
  {
   "cell_type": "code",
   "execution_count": 1,
   "metadata": {},
   "outputs": [],
   "source": [
    "import pandas as pd\n",
    "import numpy as np\n",
    "np.random.seed(42)\n",
    "pd.set_option('display.max_columns', 50)\n",
    "\n",
    "import matplotlib.pyplot as plt\n",
    "import seaborn as sns\n",
    "%matplotlib inline\n",
    "sns.set()\n",
    "\n",
    "from sklearn.decomposition import PCA\n",
    "from sklearn.neural_network import MLPClassifier\n",
    "from sklearn.neighbors import KNeighborsClassifier\n",
    "from sklearn.metrics import accuracy_score, precision_score, confusion_matrix\n",
    "from sklearn.model_selection import cross_val_score, cross_val_predict, train_test_split\n",
    "\n",
    "from read_datasets import DATA_PATH\n",
    "from multiprocessing import Pool # for reading the CSVs faster\n",
    "\n",
    "TESTING = False # Use this run with less data\n",
    "CV = 10 # Amount of folds in cross validation\n",
    "N_JOBS = 5\n",
    "\n",
    "# Models to use\n",
    "MODELS = [ \n",
    "    KNeighborsClassifier(n_neighbors=3), \n",
    "    KNeighborsClassifier(n_neighbors=5), \n",
    "    KNeighborsClassifier(n_neighbors=7),\n",
    "    MLPClassifier(solver=\"sgd\", hidden_layer_sizes=(90, ), momentum=1),\n",
    "    MLPClassifier(solver=\"sgd\", hidden_layer_sizes=(90, 40, ), momentum=0.3),\n",
    "]\n",
    "NAMES = [\"3-NN\", \"5-NN\", \"7-NN\", \"MLP-1L\", \"MLP-2L\"]\n"
   ]
  },
  {
   "cell_type": "markdown",
   "metadata": {},
   "source": [
    "# Read the data"
   ]
  },
  {
   "cell_type": "code",
   "execution_count": 2,
   "metadata": {},
   "outputs": [],
   "source": [
    "def my_read_csv(filename):\n",
    "    # Helper function for the parellel load_csvs\n",
    "    return pd.read_csv(filename)\n",
    "\n",
    "def load_csvs(prefix):\n",
    "    \"\"\"Reads and joins all our CSV files into one big dataframe.\n",
    "    We do it in parallel to make it faster, since otherwise it takes some time.\n",
    "    Idea from: https://stackoverflow.com/questions/36587211/easiest-way-to-read-csv-files-with-multiprocessing-in-pandas\n",
    "    \n",
    "    \"\"\"\n",
    "    # set up your pool\n",
    "    pool = Pool() \n",
    "    file_list = [f\"{DATA_PATH}/{prefix}{idx}.csv\" for idx in range(1, 21)]\n",
    "    df_list = pool.map(my_read_csv, file_list)\n",
    "\n",
    "    # reduce the list of dataframes to a single dataframe\n",
    "    return pd.concat(df_list, ignore_index=True)"
   ]
  },
  {
   "cell_type": "code",
   "execution_count": 3,
   "metadata": {},
   "outputs": [
    {
     "name": "stdout",
     "output_type": "stream",
     "text": [
      "CPU times: user 603 ms, sys: 204 ms, total: 807 ms\n",
      "Wall time: 25.1 s\n"
     ]
    }
   ],
   "source": [
    "%%time\n",
    "icmc_df = load_csvs(\"icmc\")\n",
    "original_df = load_csvs(\"original\")\n",
    "\n",
    "if TESTING:\n",
    "    icmc_df = icmc_df.sample(n=100)\n",
    "    original_df = original_df.sample(n=100)\n",
    "    CV = 2\n",
    "    MODELS = MODELS[:3]\n",
    "    NAMES = NAMES[:3]"
   ]
  },
  {
   "cell_type": "markdown",
   "metadata": {},
   "source": [
    "\n",
    "\n",
    "- - - \n",
    "\n",
    "<br>\n",
    "<br>\n",
    "<br>\n",
    "<br>\n",
    "<br>\n",
    "<br>\n",
    "<br>\n",
    "<br>\n",
    "<br>\n",
    "<br>\n",
    "<br>\n",
    "<br>"
   ]
  },
  {
   "cell_type": "code",
   "execution_count": 4,
   "metadata": {},
   "outputs": [],
   "source": [
    "precisions = []\n",
    "\n",
    "def calculate_average_precision(confusion_matrix):    \n",
    "    \"\"\" Calculate Average Precision on Multiclass Dataset\n",
    "    \n",
    "    We use the formula: \n",
    "        Precision[i] = TP[i] / (TP[i] + FP[i] = Sum of Column[i])\n",
    "    \"\"\" \n",
    "    # Helper function to deal with division by 0\n",
    "    def weird_division(n, d):\n",
    "        return n / d if d else 0\n",
    "\n",
    "    [precisions.append(weird_division(confusion_matrix[i][i], \n",
    "                                      np.sum(confusion_matrix, axis=0)[i])) \n",
    "         for i in range(confusion_matrix.shape[0])]        \n",
    "    return np.mean(precisions)"
   ]
  },
  {
   "cell_type": "markdown",
   "metadata": {},
   "source": [
    "# Classify without processing"
   ]
  },
  {
   "cell_type": "code",
   "execution_count": 5,
   "metadata": {},
   "outputs": [],
   "source": [
    "def run_models(x, y, processing=\"Nenhum\", names=NAMES, models=MODELS, \n",
    "               result_cols=[\"Score\", \"Model\", \"Pré-Processamento\"],\n",
    "               other_metrics=False):\n",
    "    \n",
    "    model_results = []\n",
    "    all_results = pd.DataFrame(columns=result_cols)\n",
    "    results = pd.DataFrame(columns=[\"Confusion_Matrix\", \"Accuracy\", \"Precision\", \"Model\", \"Pré-Processamento\"])\n",
    "\n",
    "    for model, name in zip(models, names):\n",
    "        y_pred = cross_val_predict(model, x, y, cv=CV, n_jobs=N_JOBS)\n",
    "        conf_mat = confusion_matrix(y, y_pred)\n",
    "\n",
    "        acc = accuracy_score(y, y_pred)\n",
    "        precision = calculate_average_precision(conf_mat)        \n",
    "\n",
    "        results.loc[len(results)] = [conf_mat, acc, precision, name, processing]\n",
    "        if other_metrics:\n",
    "            pass\n",
    "        else:\n",
    "            # By default, cross_val_score is stratified by Y automatically!\n",
    "            mean_score = cross_val_score(model, x, y, scoring=\"accuracy\", \n",
    "                                         cv=CV, n_jobs=N_JOBS).mean()\n",
    "            model_results.append(mean_score)\n",
    "            all_results.loc[len(all_results)] = [mean_score, name, processing]\n",
    "    return all_results, results"
   ]
  },
  {
   "cell_type": "code",
   "execution_count": null,
   "metadata": {},
   "outputs": [],
   "source": [
    "icmc_results, icmc_matrix = run_models(icmc_df.drop(columns=\"target\"), icmc_df[\"target\"])"
   ]
  },
  {
   "cell_type": "code",
   "execution_count": null,
   "metadata": {},
   "outputs": [],
   "source": [
    "original_results, original_matrix = run_models(original_df.drop(columns=\"target\"), icmc_df[\"target\"])"
   ]
  },
  {
   "cell_type": "markdown",
   "metadata": {},
   "source": [
    "## Show results"
   ]
  },
  {
   "cell_type": "code",
   "execution_count": null,
   "metadata": {},
   "outputs": [],
   "source": [
    "# Fonte: https://www.tarekatwan.com/index.php/2017/12/how-to-plot-a-confusion-matrix-in-python/\n",
    "def plot_confusion_matrix(cm, name, dataset, file_prefix=\"orl\", save=True):\n",
    "    \"\"\"Pretty print a confusion matrix in Python\n",
    "    \n",
    "    Parameters\n",
    "    ----------\n",
    "    cm : numpy.narray\n",
    "        Confusion matrix generated \n",
    "        \n",
    "    name : str\n",
    "        Name of the confusion matrix\n",
    "        \n",
    "    dataset : str\n",
    "            Name of the dataset used\n",
    "    \"\"\"\n",
    "    plt.figure(figsize=(16,9))\n",
    "    class_names = icmc_df[\"target\"].unique()\n",
    "    fig = sns.heatmap(cm, square=True, annot=True, fmt=\"d\", cbar=False, \n",
    "                xticklabels=class_names, yticklabels=class_names)\n",
    "    plt.title(f'{dataset}\\nMatriz de Confusão: {name}')\n",
    "    plt.ylabel('Classe Real')\n",
    "    plt.xlabel('Classe Predita')    \n",
    "    \n",
    "    if save:\n",
    "        fig = fig.get_figure()\n",
    "        name  = f\"pics/{file_prefix}-{name.replace('-', '')}-matrix.png\".lower()\n",
    "        fig.savefig(name)\n",
    "    plt.show()"
   ]
  },
  {
   "cell_type": "code",
   "execution_count": null,
   "metadata": {},
   "outputs": [],
   "source": [
    "def plot_results(results, name, use_hue=False, y_name=\"Score\", xlabel=\"Acurácia\",\n",
    "                file_prefix=\"orl\", save=True):\n",
    "    \"\"\"Plots the results of a experiment\n",
    "    \n",
    "    Parameters\n",
    "    ----------\n",
    "    results : pd.DataFrame\n",
    "        Should have the columns \"Score\", \"Modelo\", \"Pré-Processamento\"\n",
    "        \n",
    "    name : str\n",
    "        Name of the data used\n",
    "        \n",
    "    use_hue : bool\n",
    "            Weather or not to color by the column \"Pré-Processamento\"\n",
    "    \"\"\"\n",
    "    if use_hue:\n",
    "        fig = sns.barplot(y=y_name, x=\"Model\", data=results, hue=\"Pré-Processamento\")\n",
    "    else:\n",
    "        fig = sns.barplot(y=y_name, x=\"Model\", data=results)\n",
    "    plt.xlabel(\"Modelo\")\n",
    "    plt.xlabel(xlabel)\n",
    "    plt.title(f\"{xlabel} entre os modelos para os dados {name}\");\n",
    "    \n",
    "    # Save and show image\n",
    "    if save:\n",
    "        fig = fig.get_figure()\n",
    "        name = f\"pics/{file_prefix}-{y_name}.png\".lower()\n",
    "        fig.savefig(name)\n",
    "    plt.show()"
   ]
  },
  {
   "cell_type": "code",
   "execution_count": null,
   "metadata": {},
   "outputs": [],
   "source": [
    "def plot_result(results, name, use_hue=False, file_prefix=\"orl\", save=True):\n",
    "    # Confusion Matrix\n",
    "    for i in range(len(results)):\n",
    "        plot_confusion_matrix(results[\"Confusion_Matrix\"][i], \n",
    "                              results[\"Model\"][i], name, file_prefix=file_prefix,\n",
    "                             save=save)\n",
    "    print()\n",
    "    \n",
    "    plot_results(results, name, use_hue=use_hue,\n",
    "                 y_name=\"Accuracy\", xlabel=\"Acurácia\", file_prefix=file_prefix,\n",
    "                 save=save)\n",
    "    plot_results(results, name, use_hue=use_hue,\n",
    "                 y_name=\"Precision\", xlabel=\"Precisão\", file_prefix=file_prefix,\n",
    "                 save=save)\n"
   ]
  },
  {
   "cell_type": "code",
   "execution_count": null,
   "metadata": {},
   "outputs": [],
   "source": [
    "plot_result(icmc_matrix, \"\\\"Pessoas ICMC\\\"\", file_prefix=\"icmc_sem_proc\")"
   ]
  },
  {
   "cell_type": "code",
   "execution_count": null,
   "metadata": {},
   "outputs": [],
   "source": [
    "plot_result(original_matrix, \"\\\"The Database of Faces (ORL Faces)\\\"\",\n",
    "           file_prefix=\"orl_sem_proc\")"
   ]
  },
  {
   "cell_type": "code",
   "execution_count": null,
   "metadata": {},
   "outputs": [],
   "source": [
    "plot_results(icmc_results, \"icmc\", file_prefix=\"icmc\", save=False)\n",
    "plot_results(original_results, \"originais\", file_prefix=\"orl\", save=False)"
   ]
  },
  {
   "cell_type": "markdown",
   "metadata": {},
   "source": [
    "\n",
    "\n",
    "- - - \n",
    "\n",
    "<br>\n",
    "<br>\n",
    "<br>\n",
    "<br>\n",
    "<br>\n",
    "<br>\n",
    "<br>\n",
    "<br>\n",
    "<br>\n",
    "<br>\n",
    "<br>\n",
    "<br>"
   ]
  },
  {
   "cell_type": "markdown",
   "metadata": {},
   "source": [
    "# Apply PCA"
   ]
  },
  {
   "cell_type": "code",
   "execution_count": null,
   "metadata": {},
   "outputs": [],
   "source": [
    "def apply_pca(data, pca_percentage=0.5):\n",
    "    # We must use \"full\" for solver otherwise we can't use a percentage\n",
    "    pca =  PCA(n_components=pca_percentage,  svd_solver=\"full\") \n",
    "    new_data = pca.fit_transform(data.drop(columns=\"target\"))\n",
    "    new_data = pd.DataFrame(new_data)\n",
    "    new_data[\"target\"] = data[\"target\"].copy(deep=True)\n",
    "    \n",
    "    print(f\"Explicando {pca_percentage*100}% dos dados, o PCA encontrou os\", \n",
    "         f\"{len(pca.explained_variance_)} melhores autovetores\\n\\n\")\n",
    "    return new_data"
   ]
  },
  {
   "cell_type": "code",
   "execution_count": null,
   "metadata": {},
   "outputs": [],
   "source": [
    "%%time\n",
    "original_pca = apply_pca(original_df)"
   ]
  },
  {
   "cell_type": "code",
   "execution_count": null,
   "metadata": {},
   "outputs": [],
   "source": [
    "%%time\n",
    "icmc_pca = apply_pca(icmc_df)"
   ]
  },
  {
   "cell_type": "code",
   "execution_count": null,
   "metadata": {},
   "outputs": [],
   "source": [
    "icmc_results = icmc_results.append(run_models(icmc_pca.drop(columns=\"target\"), \n",
    "                                              icmc_pca[\"target\"], processing=\"PCA\")[0],\n",
    "                                   ignore_index=True)\n",
    "icmc_matrix = icmc_matrix.append(run_models(icmc_pca.drop(columns=\"target\"), icmc_pca[\"target\"], processing=\"PCA\")[1], ignore_index=True)\n"
   ]
  },
  {
   "cell_type": "code",
   "execution_count": null,
   "metadata": {},
   "outputs": [],
   "source": [
    "original_results = original_results.append(run_models(original_pca.drop(columns=\"target\"), \n",
    "                                              original_pca[\"target\"], processing=\"PCA\")[0],\n",
    "                                   ignore_index=True)\n",
    "original_matrix = original_matrix.append(run_models(original_pca.drop(columns=\"target\"), original_pca[\"target\"], processing=\"PCA\")[1], ignore_index=True)"
   ]
  },
  {
   "cell_type": "code",
   "execution_count": null,
   "metadata": {},
   "outputs": [],
   "source": [
    "plot_results(icmc_results, name=\"icmc\", use_hue=True, save=False)"
   ]
  },
  {
   "cell_type": "code",
   "execution_count": null,
   "metadata": {},
   "outputs": [],
   "source": [
    "plot_results(original_results, name=\"originais\", use_hue=True, save=False)"
   ]
  },
  {
   "cell_type": "code",
   "execution_count": null,
   "metadata": {},
   "outputs": [],
   "source": [
    "plot_result(icmc_matrix, name=\"icmc\", use_hue=True, file_prefix=\"icmc_pca\")"
   ]
  },
  {
   "cell_type": "code",
   "execution_count": null,
   "metadata": {},
   "outputs": [],
   "source": [
    "plot_result(original_matrix, name=\"originais\", use_hue=True, \n",
    "            file_prefix=\"orl_pca\")"
   ]
  },
  {
   "cell_type": "code",
   "execution_count": null,
   "metadata": {},
   "outputs": [],
   "source": []
  },
  {
   "cell_type": "code",
   "execution_count": null,
   "metadata": {},
   "outputs": [],
   "source": []
  },
  {
   "cell_type": "code",
   "execution_count": null,
   "metadata": {},
   "outputs": [],
   "source": []
  }
 ],
 "metadata": {
  "kernelspec": {
   "display_name": "Python 3",
   "language": "python",
   "name": "python3"
  },
  "language_info": {
   "codemirror_mode": {
    "name": "ipython",
    "version": 3
   },
   "file_extension": ".py",
   "mimetype": "text/x-python",
   "name": "python",
   "nbconvert_exporter": "python",
   "pygments_lexer": "ipython3",
   "version": "3.6.5rc1"
  },
  "toc": {
   "base_numbering": 1,
   "nav_menu": {},
   "number_sections": true,
   "sideBar": true,
   "skip_h1_title": false,
   "title_cell": "Table of Contents",
   "title_sidebar": "Contents",
   "toc_cell": false,
   "toc_position": {},
   "toc_section_display": true,
   "toc_window_display": false
  }
 },
 "nbformat": 4,
 "nbformat_minor": 2
}
