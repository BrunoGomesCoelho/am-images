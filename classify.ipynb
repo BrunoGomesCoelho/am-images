{
 "cells": [
  {
   "cell_type": "code",
   "execution_count": 149,
   "metadata": {},
   "outputs": [],
   "source": [
    "import pandas as pd\n",
    "import numpy as np\n",
    "pd.set_option('display.max_columns', 50)\n",
    "\n",
    "import matplotlib.pyplot as plt\n",
    "%matplotlib inline\n",
    "import seaborn as sns\n",
    "sns.set()\n",
    "\n",
    "from sklearn.decomposition import PCA\n",
    "from sklearn.neural_network import MLPClassifier\n",
    "from sklearn.neighbors import KNeighborsClassifier\n",
    "from sklearn.metrics import accuracy_score, precision_score, confusion_matrix\n",
    "from sklearn.model_selection import cross_val_score, cross_val_predict, train_test_split\n",
    "\n",
    "from read_datasets import DATA_PATH\n",
    "from multiprocessing import Pool # for reading the CSVs faster"
   ]
  },
  {
   "cell_type": "markdown",
   "metadata": {},
   "source": [
    "# Read the data"
   ]
  },
  {
   "cell_type": "code",
   "execution_count": 2,
   "metadata": {},
   "outputs": [],
   "source": [
    "def my_read_csv(filename):\n",
    "    # Helper function for the parellel load_csvs\n",
    "    return pd.read_csv(filename)\n",
    "\n",
    "def load_csvs(prefix):\n",
    "    \"\"\"Reads and joins all our CSV files into one big dataframe.\n",
    "    We do it in parallel to make it faster, since otherwise it takes some time.\n",
    "    Idea from: https://stackoverflow.com/questions/36587211/easiest-way-to-read-csv-files-with-multiprocessing-in-pandas\n",
    "    \n",
    "    \"\"\"\n",
    "\n",
    "    # set up your pool\n",
    "    pool = Pool() \n",
    "    file_list = [f\"{DATA_PATH}/{prefix}{idx}.csv\" for idx in range(1, 21)]\n",
    "    df_list = pool.map(my_read_csv, file_list)\n",
    "\n",
    "    # reduce the list of dataframes to a single dataframe\n",
    "    return pd.concat(df_list, ignore_index=True)"
   ]
  },
  {
   "cell_type": "code",
   "execution_count": 3,
   "metadata": {},
   "outputs": [
    {
     "name": "stdout",
     "output_type": "stream",
     "text": [
      "CPU times: user 2.39 s, sys: 373 ms, total: 2.76 s\n",
      "Wall time: 1min 56s\n"
     ]
    }
   ],
   "source": [
    "%%time\n",
    "icmc_df = load_csvs(\"icmc\")\n",
    "original_df = load_csvs(\"original\")"
   ]
  },
  {
   "cell_type": "markdown",
   "metadata": {},
   "source": [
    "\n",
    "\n",
    "- - - \n",
    "\n",
    "<br>\n",
    "<br>\n",
    "<br>\n",
    "<br>\n",
    "<br>\n",
    "<br>\n",
    "<br>\n",
    "<br>\n",
    "<br>\n",
    "<br>\n",
    "<br>\n",
    "<br>"
   ]
  },
  {
   "cell_type": "markdown",
   "metadata": {},
   "source": [
    "# Classify without processing"
   ]
  },
  {
   "cell_type": "code",
   "execution_count": 150,
   "metadata": {},
   "outputs": [],
   "source": [
    "def run_models(x, y, processing=\"Nenhum\",\n",
    "               names=[\"3-NN\", \"5-NN\", \"7-NN\", \"MLP-1L\", \"MLP-2L\"],\n",
    "               models=[KNeighborsClassifier(n_neighbors=3), \n",
    "                       KNeighborsClassifier(n_neighbors=5), \n",
    "                       KNeighborsClassifier(n_neighbors=7),\n",
    "                       MLPClassifier(solver=\"sgd\", hidden_layer_sizes=(90, )),\n",
    "                       MLPClassifier(solver=\"sgd\", hidden_layer_sizes=(90, 40, )),\n",
    "                      ], \n",
    "               result_cols=[\"Score\", \"Model\", \"Pré-Processamento\"],\n",
    "              other_metrics=False):\n",
    "    \n",
    "    model_results = []\n",
    "    all_results = pd.DataFrame(columns=result_cols)\n",
    "    results = pd.DataFrame(columns=[\"Confusion_Matrix\", \"Accuracy\", \"Precision\", \"Model\", \"Pré-Processamento\"])\n",
    "\n",
    "    for model, name in zip(models, names):\n",
    "        # Confusion Matrix\n",
    "        y_pred = cross_val_predict(model, x, y, cv=10, n_jobs=-1)\n",
    "        conf_mat = confusion_matrix(y, y_pred)\n",
    "\n",
    "        # Accuracy\n",
    "        acc = accuracy_score(y, y_pred)\n",
    "\n",
    "        # Precision\n",
    "        #prc = precision_score(y, y_pred)\n",
    "        prc = 0.5\n",
    "        #precision_score(y, y_pred)\n",
    "\n",
    "        results.loc[len(results)] = [conf_mat, acc, prc, name, processing]\n",
    "        if other_metrics:\n",
    "            pass\n",
    "        else:\n",
    "            # By default, cross_val_score is stratified by Y automatically!\n",
    "            \"\"\"For integer/None inputs, if the estimator is a classifier \n",
    "            and y is either binary or multiclass, StratifiedKFold is used. \n",
    "            \"\"\"\n",
    "            mean_score = cross_val_score(model, x, y, scoring=\"accuracy\", \n",
    "                                         cv=10, n_jobs=-1).mean()\n",
    "            model_results.append(mean_score)\n",
    "            all_results.loc[len(all_results)] = [mean_score, name, processing]\n",
    "    return all_results, results"
   ]
  },
  {
   "cell_type": "code",
   "execution_count": 151,
   "metadata": {},
   "outputs": [],
   "source": [
    "icmc_results, icmc_matrix = run_models(icmc_df.drop(columns=\"target\"), icmc_df[\"target\"])"
   ]
  },
  {
   "cell_type": "code",
   "execution_count": null,
   "metadata": {},
   "outputs": [],
   "source": [
    "original_results, original_matrix = run_models(original_df.drop(columns=\"target\"), icmc_df[\"target\"])"
   ]
  },
  {
   "cell_type": "markdown",
   "metadata": {},
   "source": [
    "## Show results"
   ]
  },
  {
   "cell_type": "code",
   "execution_count": null,
   "metadata": {},
   "outputs": [],
   "source": [
    "# Fonte: https://www.tarekatwan.com/index.php/2017/12/how-to-plot-a-confusion-matrix-in-python/\n",
    "def plot_confusion_matrix(cm, name, dataset):\n",
    "    plt.figure(figsize=(16,9))\n",
    "    class_names = icmc_df[\"target\"].unique()\n",
    "    sns.heatmap(cm, square=True, annot=True, fmt=\"d\", cbar=False, xticklabels=class_names, yticklabels=class_names)\n",
    "    plt.title(f'{dataset}\\nMatriz de Confusão: {name}')\n",
    "    plt.ylabel('Classe Real')\n",
    "    plt.xlabel('Classe Predita')    \n",
    "    plt.show()"
   ]
  },
  {
   "cell_type": "code",
   "execution_count": null,
   "metadata": {},
   "outputs": [],
   "source": [
    "def plot_results(results, name, use_hue=False):\n",
    "    if use_hue:\n",
    "        sns.barplot(y=\"Score\", x=\"Model\", data=results, hue=\"Pré-Processamento\")\n",
    "    else:\n",
    "        sns.barplot(y=\"Score\", x=\"Model\", data=results)\n",
    "    plt.xlabel(\"Modelo\")\n",
    "    plt.xlabel(\"Acurácia\")\n",
    "    plt.title(f\"Accurácia entre os modelos para os dados {name}\");"
   ]
  },
  {
   "cell_type": "code",
   "execution_count": null,
   "metadata": {},
   "outputs": [],
   "source": [
    "def plot_result(results, name, use_hue=False):\n",
    "    # Confusion Matrix\n",
    "    for i in range(len(results)):\n",
    "        plot_confusion_matrix(results[\"Confusion_Matrix\"][i], results[\"Model\"][i], name)\n",
    "    print()\n",
    "    \n",
    "    # Accuracy\n",
    "    if use_hue:\n",
    "        sns.barplot(y=\"Accuracy\", x=\"Model\", data=results, hue=\"Pré-Processamento\")\n",
    "    else:\n",
    "        sns.barplot(y=\"Accuracy\", x=\"Model\", data=results)\n",
    "    plt.xlabel(\"Modelo\")\n",
    "    plt.xlabel(\"Acurácia\")\n",
    "    plt.title(f\"Acurácia entre os modelos para os dados {name}\");\n",
    "    plt.show()\n",
    "    \n",
    "    # Precision\n",
    "    if use_hue:\n",
    "        sns.barplot(y=\"Precision\", x=\"Model\", data=results, hue=\"Pré-Processamento\")\n",
    "    else:\n",
    "        sns.barplot(y=\"Precision\", x=\"Model\", data=results)\n",
    "    plt.xlabel(\"Modelo\")\n",
    "    plt.xlabel(\"Precisão\")\n",
    "    plt.title(f\"Precisão entre os modelos para os dados {name}\");\n",
    "    plt.show()"
   ]
  },
  {
   "cell_type": "code",
   "execution_count": null,
   "metadata": {},
   "outputs": [],
   "source": [
    "plot_result(icmc_matrix, \"\\\"Pessoas ICMC\\\"\")"
   ]
  },
  {
   "cell_type": "code",
   "execution_count": null,
   "metadata": {},
   "outputs": [],
   "source": [
    "plot_result(icmc_matrix, \"\\\"The Database of Faces (ORL Faces)\\\"\")"
   ]
  },
  {
   "cell_type": "code",
   "execution_count": null,
   "metadata": {},
   "outputs": [],
   "source": [
    "plot_results(icmc_results, \"icmc\")\n",
    "plt.show()\n",
    "plot_results(original_results, \"originais\")"
   ]
  },
  {
   "cell_type": "markdown",
   "metadata": {},
   "source": [
    "\n",
    "\n",
    "- - - \n",
    "\n",
    "<br>\n",
    "<br>\n",
    "<br>\n",
    "<br>\n",
    "<br>\n",
    "<br>\n",
    "<br>\n",
    "<br>\n",
    "<br>\n",
    "<br>\n",
    "<br>\n",
    "<br>"
   ]
  },
  {
   "cell_type": "markdown",
   "metadata": {},
   "source": [
    "# Apply PCA"
   ]
  },
  {
   "cell_type": "code",
   "execution_count": null,
   "metadata": {},
   "outputs": [],
   "source": [
    "def apply_pca(data, pca_percentage=0.5):\n",
    "    # We must use \"full\" for solver otherwise we can't use a percentage\n",
    "    pca =  PCA(n_components=pca_percentage,  svd_solver=\"full\") \n",
    "    new_data = pca.fit_transform(data.drop(columns=\"target\"))\n",
    "    new_data = pd.DataFrame(new_data)\n",
    "    new_data[\"target\"] = data[\"target\"].copy(deep=True)\n",
    "    return new_data"
   ]
  },
  {
   "cell_type": "code",
   "execution_count": null,
   "metadata": {},
   "outputs": [],
   "source": [
    "%%time\n",
    "original_pca = apply_pca(original_df)"
   ]
  },
  {
   "cell_type": "code",
   "execution_count": null,
   "metadata": {},
   "outputs": [],
   "source": [
    "%%time\n",
    "icmc_pca = apply_pca(icmc_df)"
   ]
  },
  {
   "cell_type": "code",
   "execution_count": null,
   "metadata": {},
   "outputs": [],
   "source": [
    "icmc_results = icmc_results.append(run_models(icmc_pca.drop(columns=\"target\"), \n",
    "                                              icmc_pca[\"target\"], processing=\"PCA\"),\n",
    "                                   ignore_index=True)"
   ]
  },
  {
   "cell_type": "code",
   "execution_count": null,
   "metadata": {},
   "outputs": [],
   "source": [
    "original_results = original_results.append(run_models(original_pca.drop(columns=\"target\"), \n",
    "                                              original_pca[\"target\"], processing=\"PCA\"),\n",
    "                                   ignore_index=True)"
   ]
  },
  {
   "cell_type": "code",
   "execution_count": null,
   "metadata": {},
   "outputs": [],
   "source": [
    "plot_results(icmc_results, name=\"icmc\", use_hue=True)"
   ]
  },
  {
   "cell_type": "code",
   "execution_count": null,
   "metadata": {},
   "outputs": [],
   "source": [
    "plot_results(original_results, name=\"pca\", use_hue=True)"
   ]
  },
  {
   "cell_type": "code",
   "execution_count": null,
   "metadata": {},
   "outputs": [],
   "source": []
  }
 ],
 "metadata": {
  "kernelspec": {
   "display_name": "Python 3",
   "language": "python",
   "name": "python3"
  },
  "language_info": {
   "codemirror_mode": {
    "name": "ipython",
    "version": 3
   },
   "file_extension": ".py",
   "mimetype": "text/x-python",
   "name": "python",
   "nbconvert_exporter": "python",
   "pygments_lexer": "ipython3",
   "version": "3.6.7"
  },
  "toc": {
   "base_numbering": 1,
   "nav_menu": {},
   "number_sections": true,
   "sideBar": true,
   "skip_h1_title": false,
   "title_cell": "Table of Contents",
   "title_sidebar": "Contents",
   "toc_cell": false,
   "toc_position": {},
   "toc_section_display": true,
   "toc_window_display": false
  }
 },
 "nbformat": 4,
 "nbformat_minor": 2
}
